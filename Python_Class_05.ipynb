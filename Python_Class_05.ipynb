{
  "nbformat": 4,
  "nbformat_minor": 0,
  "metadata": {
    "colab": {
      "provenance": []
    },
    "kernelspec": {
      "name": "python3",
      "display_name": "Python 3"
    },
    "language_info": {
      "name": "python"
    }
  },
  "cells": [
    {
      "cell_type": "code",
      "execution_count": null,
      "metadata": {
        "colab": {
          "base_uri": "https://localhost:8080/"
        },
        "id": "ZI-qJ6wKh8RR",
        "outputId": "ae631582-6bc8-4cd3-cd1a-7cee012b2164"
      },
      "outputs": [
        {
          "output_type": "stream",
          "name": "stdout",
          "text": [
            "52\n",
            "51\n",
            "3\n"
          ]
        }
      ],
      "source": [
        "# Functions in Python\n",
        "# reusable chunks of code \n",
        "# 2 phases of a funciton, designing the function and \n",
        "# calling the function\n",
        "# the need for using logical naming in functions\n",
        "# the need for clean coding\n",
        "# parameters and arguments --> A paramter is the design input, while the argument is the actual value\n",
        "# concept of optional paramters,\n",
        "# task performing funciton and functions that calculate a value --> 2 types of funcitons\n",
        "# basically funcitons that return something or dont,\n",
        "# keyword arguments,\n",
        "\n",
        "\n",
        "\n",
        "# keyword arguments\n",
        "def increment(x,y):\n",
        "  return(x+y)\n",
        "print(increment(50,y=2))\n",
        "\n",
        "# optional arguments\n",
        "def increment_again(x,y=1):\n",
        "  return(x+y)\n",
        "print(increment_again(50))\n",
        "\n",
        "### The optional paramters should come after the required paramters ###\n"
      ]
    },
    {
      "cell_type": "code",
      "source": [
        "# multiple arguments can be taken with just one paramter with a *\n",
        "def multiply(*numbers):\n",
        "  total = 1\n",
        "  # traversing through the paramters\n",
        "  for i in numbers:\n",
        "    # print(i)\n",
        "    # print(total*i)\n",
        "    print(i)\n",
        "\n",
        "multiply(3,2,1,[3,2,1])\n"
      ],
      "metadata": {
        "colab": {
          "base_uri": "https://localhost:8080/"
        },
        "id": "OtwRTAbuPvMK",
        "outputId": "65f7765b-2751-4940-d275-747f161cdf98"
      },
      "execution_count": null,
      "outputs": [
        {
          "output_type": "stream",
          "name": "stdout",
          "text": [
            "3\n",
            "2\n",
            "1\n",
            "[3, 2, 1]\n"
          ]
        }
      ]
    },
    {
      "cell_type": "code",
      "source": [
        "# Using the zip function to group up \n",
        "Year = (1999, 2003, 2011, 2017)\n",
        "Month = (\"Mar\", \"Jun\", \"Jan\", \"Dec\")\n",
        "Day = (11,21,13,5)\n",
        "x = zip(Year,Month,Day)\n",
        "print(tuple(x))\n",
        "\n",
        "# traversing the tuple\n",
        "for i in tuple(x):\n",
        "  print(i)\n",
        "  for j in i:\n",
        "    print(j)"
      ],
      "metadata": {
        "colab": {
          "base_uri": "https://localhost:8080/"
        },
        "id": "cxHOZ3YnUCon",
        "outputId": "8bde044f-02fc-4074-9ed1-c91d62ea7863"
      },
      "execution_count": null,
      "outputs": [
        {
          "output_type": "stream",
          "name": "stdout",
          "text": [
            "((1999, 'Mar', 11), (2003, 'Jun', 21), (2011, 'Jan', 13), (2017, 'Dec', 5))\n"
          ]
        }
      ]
    },
    {
      "cell_type": "code",
      "source": [
        "# we get a dictionary as a result of this function\n",
        "def get_user(**user):\n",
        "  print(user)\n",
        "  print(user[\"username\"])\n",
        "\n",
        "# we get the ability to use mulitple keyword arguments here because of using ** in the function\n",
        "get_user(username = \"Shaikat\", age = 26)"
      ],
      "metadata": {
        "colab": {
          "base_uri": "https://localhost:8080/"
        },
        "id": "0OxulXhlWNUA",
        "outputId": "389cdcfe-5137-4d3e-f50a-a39cedddb321"
      },
      "execution_count": null,
      "outputs": [
        {
          "output_type": "stream",
          "name": "stdout",
          "text": [
            "{'username': 'Shaikat', 'age': 26}\n",
            "Shaikat\n"
          ]
        }
      ]
    },
    {
      "cell_type": "code",
      "source": [
        "# Scope of functions\n",
        "# region of the code where a variable is defined\n",
        "# the ability to know the scope of parameters inside the function cannot be found outside\n",
        "# this is the concept of local variables\n",
        "\n",
        "\n",
        "# the use of global variable being defined at the beginning at the very top of the script\n",
        "value = 100\n",
        "print(value)\n",
        "\n",
        "def change_value_locally(x):\n",
        "  value = x\n",
        "\n",
        "print(value)\n",
        "\n",
        "def change_value_globally(x):\n",
        "  # you need to mention the keyword global first to make the changes to the global variable\n",
        "  global value \n",
        "  value = x\n",
        "\n",
        "change_value_locally(10)\n",
        "change_value_globally(10)\n",
        "\n",
        "print(value)\n",
        "\n",
        "### modifying the global variables is a bad practise\n",
        "\n"
      ],
      "metadata": {
        "colab": {
          "base_uri": "https://localhost:8080/"
        },
        "id": "3Z-4ArXaWoVZ",
        "outputId": "9330a326-dad4-4eca-c20f-fe582862db4b"
      },
      "execution_count": null,
      "outputs": [
        {
          "output_type": "stream",
          "name": "stdout",
          "text": [
            "100\n",
            "100\n",
            "10\n"
          ]
        }
      ]
    },
    {
      "cell_type": "code",
      "source": [
        "def Fizz_Buzz(value):\n",
        "  if((value % 3 ==0) and (value % 5 ==0)):\n",
        "    print('FizzBuzz')\n",
        "\n",
        "  elif(value % 3 ==0):\n",
        "    print('Fizz')\n",
        "\n",
        "  elif(value % 5 ==0):\n",
        "    print('Buzz')\n",
        "\n",
        "  else:\n",
        "    print(value)\n",
        "\n",
        "\n",
        "Fizz_Buzz(30)\n"
      ],
      "metadata": {
        "id": "dNIBjUieZ7dq",
        "colab": {
          "base_uri": "https://localhost:8080/"
        },
        "outputId": "c7706ffc-7ad8-4351-c4b7-c4fac643d7e5"
      },
      "execution_count": 41,
      "outputs": [
        {
          "output_type": "stream",
          "name": "stdout",
          "text": [
            "FizzBuzz\n"
          ]
        }
      ]
    },
    {
      "cell_type": "code",
      "source": [
        "# A function to find all the factors of a certain number\n",
        "\n",
        "def find_factors(num):\n",
        "  count = 0\n",
        "  for i in range(num):\n",
        "    print(i)\n",
        "\n",
        "find_factors(6)\n",
        "\n",
        "\n",
        "\n"
      ],
      "metadata": {
        "colab": {
          "base_uri": "https://localhost:8080/"
        },
        "id": "przi_m7KgjYY",
        "outputId": "c379d31f-25c7-4d51-ea4a-070e41339d30"
      },
      "execution_count": 46,
      "outputs": [
        {
          "output_type": "stream",
          "name": "stdout",
          "text": [
            "0\n",
            "1\n",
            "2\n",
            "3\n",
            "4\n",
            "5\n"
          ]
        }
      ]
    },
    {
      "cell_type": "code",
      "source": [
        "# A functio to find if a number is a prime number or not\n"
      ],
      "metadata": {
        "id": "S_KM4XvhmQbt"
      },
      "execution_count": null,
      "outputs": []
    },
    {
      "cell_type": "code",
      "source": [
        "# A lambda funciton is a small anonymous function that is defined without any name\n",
        "# format --> argument : expression\n",
        "\n",
        "number = lambda x: x + 10\n",
        "print(number(90))\n",
        "\n",
        "square = lambda x: x*x\n",
        "print(square(2))\n",
        "\n",
        "multiply = lambda x,y: x*y\n",
        "print(multiply(2,3))\n",
        "\n",
        "divide = lambda x,y: x/y\n",
        "print(divide(6,2))\n",
        "\n",
        "name = lambda name: name + name\n",
        "print(name(\"Shaikat\"))\n",
        "\n",
        "x = lambda x, y: 3*x + 4*y\n",
        "print(x(10,20))\n",
        "\n",
        "x = lambda x: 5*(x**2) + 4*x + 3\n",
        "print(x(10))\n",
        "\n"
      ],
      "metadata": {
        "colab": {
          "base_uri": "https://localhost:8080/"
        },
        "id": "Q7qoEKRThIYK",
        "outputId": "805fd7f6-cfb7-4a23-af25-919187351b36"
      },
      "execution_count": 56,
      "outputs": [
        {
          "output_type": "stream",
          "name": "stdout",
          "text": [
            "100\n",
            "4\n",
            "6\n",
            "3.0\n",
            "ShaikatShaikat\n"
          ]
        }
      ]
    }
  ]
}