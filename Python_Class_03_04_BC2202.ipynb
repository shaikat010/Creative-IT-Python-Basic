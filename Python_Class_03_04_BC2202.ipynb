{
  "nbformat": 4,
  "nbformat_minor": 0,
  "metadata": {
    "colab": {
      "provenance": []
    },
    "kernelspec": {
      "name": "python3",
      "display_name": "Python 3"
    },
    "language_info": {
      "name": "python"
    }
  },
  "cells": [
    {
      "cell_type": "code",
      "execution_count": null,
      "metadata": {
        "colab": {
          "base_uri": "https://localhost:8080/"
        },
        "id": "cKuMpsBD-5Tl",
        "outputId": "1ca6ce0e-dacf-4fef-9006-da7abb52f5de"
      },
      "outputs": [
        {
          "output_type": "stream",
          "name": "stdout",
          "text": [
            "['table tennis', 'cricket', 'hockey', 'basketball', 'tennis']\n",
            "['table tennis', [1, 2, 3], 'cricket', 'hockey', 'basketball', 'tennis']\n",
            "[1, 2, 3]\n",
            "1\n",
            "['table tennis', [1, 2, 3], 'cricket']\n",
            "['table tennis', [1, 2, 3], 'cricket']\n",
            "['hockey', 'basketball', 'tennis']\n",
            "['table tennis', 'cricket', 'hockey', 'basketball', 'tennis', 'Kabadi']\n",
            "['cricket', 'hockey', 'basketball', 'tennis', 'Kabadi']\n",
            "['cricket', 'hockey', 'tennis', 'Kabadi']\n"
          ]
        }
      ],
      "source": [
        "# colleciton of items of different types\n",
        "# can contain element of different types\n",
        "# the indexing of the list \n",
        "# the reverse indexing of the list\n",
        "# lists are ordered\n",
        "# new items ar eadded at the end of the list,\n",
        "# referenced by the index value\n",
        "# mutable\n",
        "# allow duplicate elements\n",
        "# append method --> add the element at the end of the list\n",
        "# insert --> insert at a specific index\n",
        "# extend --> adds a list to the end of another list \n",
        "# index --> returns the element of the fetching index\n",
        "# remove --> remove the item with a specific value\n",
        "# sort --> used to sort the list\n",
        "# reverse --> reverse the order of the list\n",
        "# inserting a list inside a list\n",
        "# accessing an element from a list inside another list\n",
        "# slicing in python\n",
        "\n",
        "list1 = [\"table tennis\",\"cricket\",\"hockey\",\"basketball\",\"tennis\"]\n",
        "print(list1)\n",
        "\n",
        "list2=  [\"table tennis\",[1,2,3],\"cricket\",\"hockey\",\"basketball\",\"tennis\"]\n",
        "print(list2)\n",
        "\n",
        "print(list2[1])\n",
        "\n",
        "print(list2[1][0])\n",
        "\n",
        "#slicing operator\n",
        "print(list2[0:3])\n",
        "print(list2[:3])\n",
        "print(list2[3:])\n",
        "\n",
        "# appending to the list \n",
        "list1.append(\"Kabadi\")\n",
        "print(list1)\n",
        "\n",
        "# deleting an element form the list\n",
        "del list1[0]\n",
        "print(list1)\n",
        "\n",
        "# can also delete an item using the remove function\n",
        "list1.remove(\"basketball\")\n",
        "print(list1)\n",
        "\n"
      ]
    },
    {
      "cell_type": "code",
      "source": [],
      "metadata": {
        "id": "9q-tkwScI6qi"
      },
      "execution_count": null,
      "outputs": []
    },
    {
      "cell_type": "code",
      "source": [
        "# pop method\n",
        "# popped the last element in the list using the pop function\n",
        "print(list1)\n",
        "list1.pop()\n",
        "print(list1)\n",
        "\n",
        "# pop at a certain index in the list\n",
        "list1.pop(0)\n",
        "print(list1)\n",
        "\n",
        "#removes all the elements in the list\n",
        "list2.clear()\n",
        "print(list2)\n",
        "\n"
      ],
      "metadata": {
        "colab": {
          "base_uri": "https://localhost:8080/"
        },
        "id": "RX6ivC2cINuC",
        "outputId": "03ad32b4-9998-4301-dfe5-5d6dad069e9d"
      },
      "execution_count": null,
      "outputs": [
        {
          "output_type": "stream",
          "name": "stdout",
          "text": [
            "[]\n"
          ]
        }
      ]
    },
    {
      "cell_type": "code",
      "source": [
        "# reverse all the elements in the list\n",
        "list1.reverse()\n",
        "print(list1)"
      ],
      "metadata": {
        "colab": {
          "base_uri": "https://localhost:8080/"
        },
        "id": "AqZbI_gvI6AD",
        "outputId": "be70702b-90b8-4b69-8945-8a15ff6d846f"
      },
      "execution_count": null,
      "outputs": [
        {
          "output_type": "stream",
          "name": "stdout",
          "text": [
            "['Kabadi', 'tennis', 'hockey', 'cricket']\n"
          ]
        }
      ]
    },
    {
      "cell_type": "code",
      "source": [
        "# finding the index of a particular element in a certain list\n",
        "print(list1.index('hockey'))"
      ],
      "metadata": {
        "colab": {
          "base_uri": "https://localhost:8080/"
        },
        "id": "GCCc9YjAJRoL",
        "outputId": "1a82e259-675a-4ea6-9861-432960cfa7d1"
      },
      "execution_count": null,
      "outputs": [
        {
          "output_type": "stream",
          "name": "stdout",
          "text": [
            "2\n"
          ]
        }
      ]
    },
    {
      "cell_type": "code",
      "source": [
        "# count the number of times a particular element comes in a certain list\n",
        "print(list1.count('hockey'))"
      ],
      "metadata": {
        "colab": {
          "base_uri": "https://localhost:8080/"
        },
        "id": "O-BmZ03zJlrq",
        "outputId": "958ecf3f-ac55-4357-f692-5370a4be4104"
      },
      "execution_count": null,
      "outputs": [
        {
          "output_type": "stream",
          "name": "stdout",
          "text": [
            "1\n"
          ]
        }
      ]
    },
    {
      "cell_type": "code",
      "source": [
        "# get at the reverse index\n"
      ],
      "metadata": {
        "id": "BBFrZOPZKyHA"
      },
      "execution_count": null,
      "outputs": []
    },
    {
      "cell_type": "code",
      "source": [
        "# Tuples in Python\n",
        "# list is mutable and the tuple in immutable\n",
        "# colleciton of items of different types\n",
        "# enclosed by round brackets\n",
        "\n",
        "#characteristics of tuples\n",
        "# tuples are ordered\n",
        "# can be accessed by index starting from 0\n",
        "# can store different types of elements\n",
        "# are immutable\n",
        "# tuples allow duplicate elements\n",
        "\n",
        "#operators of tuples\n",
        "# index --> access an element in a certin index\n",
        "# slicing --> access a range of element from th tuple\n",
        "# concatenaiton --> adding one tuple to another tuple\n",
        "# repetaiton in tuples\n",
        "# count --> count the number of times a certain element is present in the tuple\n",
        "# a single element based tuple is just a string\n",
        "\n",
        "tuple01 = (\"table tennis\",\"cricket\",\"hockey\",\"basketball\")\n",
        "print(tuple01)\n",
        "\n"
      ],
      "metadata": {
        "colab": {
          "base_uri": "https://localhost:8080/"
        },
        "id": "40TVX8FxJzsx",
        "outputId": "5c30b34c-2a5c-4078-ade0-1cf2dcbd2ab7"
      },
      "execution_count": null,
      "outputs": [
        {
          "output_type": "stream",
          "name": "stdout",
          "text": [
            "('table tennis', 'cricket', 'hockey', 'basketball')\n"
          ]
        }
      ]
    },
    {
      "cell_type": "code",
      "source": [
        "tuple02 = (\"Badminton\",)\n",
        "print(type(tuple02))"
      ],
      "metadata": {
        "colab": {
          "base_uri": "https://localhost:8080/"
        },
        "id": "bLBo7rTvyQxB",
        "outputId": "6cd3fd9b-3de1-47b4-d9bd-67cffab32a99"
      },
      "execution_count": null,
      "outputs": [
        {
          "output_type": "stream",
          "name": "stdout",
          "text": [
            "<class 'tuple'>\n"
          ]
        }
      ]
    },
    {
      "cell_type": "code",
      "source": [
        "# The single element is of the type string\n",
        "print(type(tuple01[0]))"
      ],
      "metadata": {
        "colab": {
          "base_uri": "https://localhost:8080/"
        },
        "id": "haS0OZpwyXwN",
        "outputId": "97cb5dce-bc49-4e1d-d2b9-6307691d176e"
      },
      "execution_count": null,
      "outputs": [
        {
          "output_type": "stream",
          "name": "stdout",
          "text": [
            "<class 'str'>\n"
          ]
        }
      ]
    },
    {
      "cell_type": "code",
      "source": [
        "# getting a certain element by the index\n",
        "print(tuple01[0])"
      ],
      "metadata": {
        "colab": {
          "base_uri": "https://localhost:8080/"
        },
        "id": "Lkq1lrOjyguH",
        "outputId": "0d8bba3d-82f1-4312-cc3b-edbdb636f516"
      },
      "execution_count": null,
      "outputs": [
        {
          "output_type": "stream",
          "name": "stdout",
          "text": [
            "Badminton\n"
          ]
        }
      ]
    },
    {
      "cell_type": "code",
      "source": [
        "# getting the last element in the list\n",
        "print(tuple01[-1])"
      ],
      "metadata": {
        "colab": {
          "base_uri": "https://localhost:8080/"
        },
        "id": "CQl2eiNKy7yl",
        "outputId": "9cabfcb5-c373-443e-ea01-25170f304d4d"
      },
      "execution_count": null,
      "outputs": [
        {
          "output_type": "stream",
          "name": "stdout",
          "text": [
            "basketball\n"
          ]
        }
      ]
    },
    {
      "cell_type": "code",
      "source": [
        "# slicing operator\n",
        "print(tuple01[1:4])"
      ],
      "metadata": {
        "colab": {
          "base_uri": "https://localhost:8080/"
        },
        "id": "6B3DoswjzLEV",
        "outputId": "a4718171-bd18-40d7-f2c3-bcf0050ed023"
      },
      "execution_count": null,
      "outputs": [
        {
          "output_type": "stream",
          "name": "stdout",
          "text": [
            "('cricket', 'hockey', 'basketball')\n"
          ]
        }
      ]
    },
    {
      "cell_type": "code",
      "source": [
        "# repatation method in tuples\n",
        "print((\"hello\",\"world\")*4)"
      ],
      "metadata": {
        "colab": {
          "base_uri": "https://localhost:8080/"
        },
        "id": "DscadQsHzTxn",
        "outputId": "1217c434-ba09-476e-e926-16f76f408c3f"
      },
      "execution_count": null,
      "outputs": [
        {
          "output_type": "stream",
          "name": "stdout",
          "text": [
            "('hello', 'world', 'hello', 'world', 'hello', 'world', 'hello', 'world')\n"
          ]
        }
      ]
    },
    {
      "cell_type": "code",
      "source": [
        "# getting the number of times a certain element is present in the tuple\n",
        "print(tuple01.count('badminton'))\n",
        "print(tuple01.count('cricket'))"
      ],
      "metadata": {
        "colab": {
          "base_uri": "https://localhost:8080/"
        },
        "id": "1fGqV0a4zmLF",
        "outputId": "c1789512-a8ed-40c9-d46d-ca307b9463e3"
      },
      "execution_count": null,
      "outputs": [
        {
          "output_type": "stream",
          "name": "stdout",
          "text": [
            "0\n",
            "1\n"
          ]
        }
      ]
    },
    {
      "cell_type": "code",
      "source": [
        "# getting the index in which a certain element is in\n",
        "print(tuple01.index('cricket'))"
      ],
      "metadata": {
        "colab": {
          "base_uri": "https://localhost:8080/"
        },
        "id": "h27KBbn7zzBX",
        "outputId": "ab20c1d3-3bc7-4615-f708-d77f86638b59"
      },
      "execution_count": null,
      "outputs": [
        {
          "output_type": "stream",
          "name": "stdout",
          "text": [
            "1\n"
          ]
        }
      ]
    },
    {
      "cell_type": "code",
      "source": [
        "# append method in tuple\n",
        "# we are goting to convert the tuple into a list and then \n",
        "# append the list\n",
        "# technique of appending value into a tuple\n",
        "x = list(tuple01)\n",
        "print(type(x))\n",
        "x.append(\"Another Game\")\n",
        "print(x)\n",
        "tuple01 = tuple(x)\n",
        "print(tuple01)\n"
      ],
      "metadata": {
        "colab": {
          "base_uri": "https://localhost:8080/"
        },
        "id": "qrMj2_qN0CNO",
        "outputId": "e9df7943-7877-4868-ca06-2756d7df497c"
      },
      "execution_count": null,
      "outputs": [
        {
          "output_type": "stream",
          "name": "stdout",
          "text": [
            "<class 'list'>\n",
            "['table tennis', 'cricket', 'hockey', 'basketball', 'Another Game']\n",
            "('table tennis', 'cricket', 'hockey', 'basketball', 'Another Game')\n"
          ]
        }
      ]
    },
    {
      "cell_type": "code",
      "source": [
        "# adding 2 tuples teogether, or concatenating 1 tuple into another\n",
        "\n",
        "tuple03 = tuple01 + tuple02\n",
        "print(tuple03)"
      ],
      "metadata": {
        "colab": {
          "base_uri": "https://localhost:8080/"
        },
        "id": "UhYzSYQu1Sz3",
        "outputId": "a14f79fa-e342-408d-dbde-e3786377815d"
      },
      "execution_count": null,
      "outputs": [
        {
          "output_type": "stream",
          "name": "stdout",
          "text": [
            "('table tennis', 'cricket', 'hockey', 'basketball', 'Another Game', 'Badminton')\n"
          ]
        }
      ]
    },
    {
      "cell_type": "code",
      "source": [
        "# traversing a tuple\n",
        "for item in tuple01:\n",
        "  print(item)"
      ],
      "metadata": {
        "colab": {
          "base_uri": "https://localhost:8080/"
        },
        "id": "N46FaeMB1plS",
        "outputId": "3c613acc-de15-41d5-8f7d-0e9335ff454e"
      },
      "execution_count": null,
      "outputs": [
        {
          "output_type": "stream",
          "name": "stdout",
          "text": [
            "table tennis\n",
            "cricket\n",
            "hockey\n",
            "basketball\n",
            "Another Game\n"
          ]
        }
      ]
    },
    {
      "cell_type": "code",
      "source": [
        "# Dictionaries\n",
        "# key-value pairs\n",
        "# just like a physical dictionary\n",
        "# dictionaries are ordered\n",
        "# and the order doesnt change\n",
        "# elements cannot be accessed by index\n",
        "# mutable\n",
        "# no duplicate elements allowed\n",
        "# clear method --> removes all the elements\n",
        "# get --> get the element of a certain key\n",
        "# keys --> returns a list containing all the keys\n",
        "# pop --> pops the element of the given key\n",
        "# popitem --> removes the last inserted key value pair"
      ],
      "metadata": {
        "id": "7KcJxZmI3Sbb"
      },
      "execution_count": null,
      "outputs": []
    },
    {
      "cell_type": "code",
      "source": [
        "# Create a dictionary\n",
        "dictionary01 = {\n",
        "    1:\"badminton\",\n",
        "    2: \"tennis\",\n",
        "    3: \"football\"\n",
        "}\n",
        "\n",
        "print(dictionary01)"
      ],
      "metadata": {
        "colab": {
          "base_uri": "https://localhost:8080/"
        },
        "id": "Ng206QcZ7Zh-",
        "outputId": "b5ca828e-4c6e-4ca6-f03f-0cfa68f38ea0"
      },
      "execution_count": null,
      "outputs": [
        {
          "output_type": "stream",
          "name": "stdout",
          "text": [
            "{1: 'badminton', 2: 'tennis', 3: 'football'}\n"
          ]
        }
      ]
    },
    {
      "cell_type": "code",
      "source": [
        "# access a particular value with the help of the key\n",
        "i = 3\n",
        "print(dictionary01[1])\n",
        "print(dictionary01[2])\n",
        "print(dictionary01[i])"
      ],
      "metadata": {
        "colab": {
          "base_uri": "https://localhost:8080/"
        },
        "id": "hivurDY_73SI",
        "outputId": "00212485-f1a8-4c18-9d2c-87f30d97f6a8"
      },
      "execution_count": null,
      "outputs": [
        {
          "output_type": "stream",
          "name": "stdout",
          "text": [
            "badminton\n",
            "tennis\n",
            "football\n"
          ]
        }
      ]
    },
    {
      "cell_type": "code",
      "source": [
        " # get the value based on the key\n",
        " print(dictionary01.get(3))"
      ],
      "metadata": {
        "colab": {
          "base_uri": "https://localhost:8080/"
        },
        "id": "BU7coZQA8tyP",
        "outputId": "1b46cb4f-e270-49d7-8415-c5b47ac35f67"
      },
      "execution_count": null,
      "outputs": [
        {
          "output_type": "stream",
          "name": "stdout",
          "text": [
            "football\n"
          ]
        }
      ]
    },
    {
      "cell_type": "code",
      "source": [
        "print(dictionary01.pop(1))\n",
        "# this will show the first item being popped out\n",
        "print(dictionary01)"
      ],
      "metadata": {
        "colab": {
          "base_uri": "https://localhost:8080/"
        },
        "id": "2hvXx_AH-nAE",
        "outputId": "35b51b72-3aaf-4cb2-91a5-cac21e5cce8d"
      },
      "execution_count": null,
      "outputs": [
        {
          "output_type": "stream",
          "name": "stdout",
          "text": [
            "badminton\n",
            "{2: 'tennis', 3: 'football'}\n"
          ]
        }
      ]
    },
    {
      "cell_type": "code",
      "source": [
        "print(len(dictionary01))"
      ],
      "metadata": {
        "colab": {
          "base_uri": "https://localhost:8080/"
        },
        "id": "xDMccQQH_uyD",
        "outputId": "54bbcc70-210e-4dba-e408-375b082ee983"
      },
      "execution_count": null,
      "outputs": [
        {
          "output_type": "stream",
          "name": "stdout",
          "text": [
            "3\n"
          ]
        }
      ]
    },
    {
      "cell_type": "code",
      "source": [
        "print(sorted(dictionary01))"
      ],
      "metadata": {
        "colab": {
          "base_uri": "https://localhost:8080/"
        },
        "id": "9EjJKT2x_9YA",
        "outputId": "a357c0b1-a8c0-426b-eeb3-f1148241f423"
      },
      "execution_count": null,
      "outputs": [
        {
          "output_type": "stream",
          "name": "stdout",
          "text": [
            "[1, 2, 3]\n"
          ]
        }
      ]
    },
    {
      "cell_type": "code",
      "source": [
        "print(dictionary01.keys())"
      ],
      "metadata": {
        "colab": {
          "base_uri": "https://localhost:8080/"
        },
        "id": "WnQZBneLNA2d",
        "outputId": "1e120712-6113-4925-de2c-d3c64d51eeeb"
      },
      "execution_count": null,
      "outputs": [
        {
          "output_type": "stream",
          "name": "stdout",
          "text": [
            "dict_keys([1, 2, 3])\n"
          ]
        }
      ]
    },
    {
      "cell_type": "code",
      "source": [
        "print(dictionary01.values())\n",
        "x = dictionary01.values()\n",
        "\n",
        "for value in x:\n",
        "  print(value)"
      ],
      "metadata": {
        "colab": {
          "base_uri": "https://localhost:8080/"
        },
        "id": "dxNXg0EDO68C",
        "outputId": "99c993f2-5028-40d6-bdb8-c0caf8d95e17"
      },
      "execution_count": null,
      "outputs": [
        {
          "output_type": "stream",
          "name": "stdout",
          "text": [
            "dict_values(['badminton', 'tennis', 'football'])\n",
            "badminton\n",
            "tennis\n",
            "football\n"
          ]
        }
      ]
    },
    {
      "cell_type": "code",
      "source": [
        "dictionary01.update({40: \"Another\"})\n",
        "print(dictionary01)"
      ],
      "metadata": {
        "colab": {
          "base_uri": "https://localhost:8080/"
        },
        "id": "DcdY8P3UPF5D",
        "outputId": "60e184f6-d8f0-424a-a7bc-5f60c7474bc8"
      },
      "execution_count": null,
      "outputs": [
        {
          "output_type": "stream",
          "name": "stdout",
          "text": [
            "{1: 'badminton', 2: 'tennis', 3: 'football', 40: 'Another'}\n"
          ]
        }
      ]
    },
    {
      "cell_type": "code",
      "source": [
        "dictionary01.update({50:\"Another\"})\n",
        "print(dictionary01)"
      ],
      "metadata": {
        "colab": {
          "base_uri": "https://localhost:8080/"
        },
        "id": "pxdyXFakPUtt",
        "outputId": "b9d28923-5a74-48b8-fe91-33c1378d5f1e"
      },
      "execution_count": null,
      "outputs": [
        {
          "output_type": "stream",
          "name": "stdout",
          "text": [
            "{1: 'badminton', 2: 'tennis', 3: 'football', 40: 'Another', 50: 'Another'}\n"
          ]
        }
      ]
    },
    {
      "cell_type": "code",
      "source": [
        "# to remove a key value\n",
        "dictionary01.pop(40)\n",
        "print(dictionary01)"
      ],
      "metadata": {
        "colab": {
          "base_uri": "https://localhost:8080/"
        },
        "id": "5UmBRy6OPbhi",
        "outputId": "06766da4-3dd6-47b2-93a7-6fb5579a5af5"
      },
      "execution_count": null,
      "outputs": [
        {
          "output_type": "stream",
          "name": "stdout",
          "text": [
            "{1: 'badminton', 2: 'tennis', 3: 'football', 50: 'Another'}\n"
          ]
        }
      ]
    },
    {
      "cell_type": "code",
      "source": [
        "# removing the last item in th edictionary\n",
        "dictionary01.popitem()\n",
        "print(dictionary01)"
      ],
      "metadata": {
        "colab": {
          "base_uri": "https://localhost:8080/"
        },
        "id": "vNru8fFFPkjr",
        "outputId": "03b27f1c-8005-4b92-fa32-a140f7f875c1"
      },
      "execution_count": null,
      "outputs": [
        {
          "output_type": "stream",
          "name": "stdout",
          "text": [
            "{1: 'badminton', 2: 'tennis', 3: 'football'}\n"
          ]
        }
      ]
    },
    {
      "cell_type": "code",
      "source": [
        "# traversing\n",
        "for item in dictionary01:\n",
        "  print(dictionary01[item])\n",
        "\n"
      ],
      "metadata": {
        "colab": {
          "base_uri": "https://localhost:8080/"
        },
        "id": "JyGnhWrKPwyy",
        "outputId": "72d11438-b439-4f86-86d2-4655de663338"
      },
      "execution_count": null,
      "outputs": [
        {
          "output_type": "stream",
          "name": "stdout",
          "text": [
            "badminton\n",
            "tennis\n",
            "football\n"
          ]
        }
      ]
    },
    {
      "cell_type": "code",
      "source": [
        "# to print both the keys and values\n",
        "\n",
        "for x,y in dictionary01.items():\n",
        "  print(x,y)\n"
      ],
      "metadata": {
        "colab": {
          "base_uri": "https://localhost:8080/"
        },
        "id": "2Ds0QyetP8VH",
        "outputId": "f691cb8a-ffd1-47f8-b3a6-f6c08fa681dd"
      },
      "execution_count": null,
      "outputs": [
        {
          "output_type": "stream",
          "name": "stdout",
          "text": [
            "1 badminton\n",
            "2 tennis\n",
            "3 football\n"
          ]
        }
      ]
    },
    {
      "cell_type": "code",
      "source": [
        "#copying a dictionary in another dictionary\n",
        "dictionary02 = dictionary01.copy()\n",
        "print(dictionary02)"
      ],
      "metadata": {
        "colab": {
          "base_uri": "https://localhost:8080/"
        },
        "id": "ymmdGnuPQI6T",
        "outputId": "09232609-3aa2-42fc-e9a8-6bb558a63f35"
      },
      "execution_count": null,
      "outputs": [
        {
          "output_type": "stream",
          "name": "stdout",
          "text": [
            "{1: 'badminton', 2: 'tennis', 3: 'football'}\n"
          ]
        }
      ]
    },
    {
      "cell_type": "code",
      "source": [
        "# delete the whole dicitonary\n",
        "dictionary01.clear()\n",
        "print(dictionary01)"
      ],
      "metadata": {
        "colab": {
          "base_uri": "https://localhost:8080/"
        },
        "id": "b3W5f9g7QUpq",
        "outputId": "9df0ee3a-e694-4dc0-cb70-d09b9c5294db"
      },
      "execution_count": null,
      "outputs": [
        {
          "output_type": "stream",
          "name": "stdout",
          "text": [
            "{}\n"
          ]
        }
      ]
    },
    {
      "cell_type": "markdown",
      "source": [
        "![Dictionaries.png](data:image/png;base64,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)"
      ],
      "metadata": {
        "id": "5GiVSH4E3ldK"
      }
    },
    {
      "cell_type": "markdown",
      "source": [
        "![Key_Value.png](data:image/png;base64,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)"
      ],
      "metadata": {
        "id": "MoKq7Gew4Pxy"
      }
    }
  ]
}